{
  "nbformat": 4,
  "nbformat_minor": 0,
  "metadata": {
    "colab": {
      "provenance": [],
      "authorship_tag": "ABX9TyMm68qMZ5TpNndBuX51ETsY",
      "include_colab_link": true
    },
    "kernelspec": {
      "name": "python3",
      "display_name": "Python 3"
    },
    "language_info": {
      "name": "python"
    }
  },
  "cells": [
    {
      "cell_type": "markdown",
      "metadata": {
        "id": "view-in-github",
        "colab_type": "text"
      },
      "source": [
        "<a href=\"https://colab.research.google.com/github/Jore24x/PemVis/blob/main/PEMVIS6.ipynb\" target=\"_parent\"><img src=\"https://colab.research.google.com/assets/colab-badge.svg\" alt=\"Open In Colab\"/></a>"
      ]
    },
    {
      "cell_type": "code",
      "execution_count": 16,
      "metadata": {
        "colab": {
          "base_uri": "https://localhost:8080/"
        },
        "id": "dd7OiGDsdU9m",
        "outputId": "aeb35852-f128-4ed8-93a2-fadaa40e3756"
      },
      "outputs": [
        {
          "output_type": "stream",
          "name": "stdout",
          "text": [
            "Tipe data Set_1 adalah  <class 'set'>\n",
            "Tipe data Set 2 adalah  <class 'set'>\n",
            "Data Set_1:  {'Jeruk', 'Apel', 'Pisang'}\n",
            "Data Set 2:  {'Jeruk', 'Apel', 'Pisang'}\n",
            "--------------------\n",
            "Jeruk\n",
            "Apel\n",
            "Pisang\n",
            "--------------------\n",
            "3\n",
            "Yes, 'Jeruk is an item in Set_1.\n",
            "{'Jeruk', 'Apel', 'Pisang', 'anggur'}\n",
            "{'Jeruk', 'Apel', 'Melon', 'Pisang', 'Kiwi', 'anggur', 'Pir'}\n"
          ]
        }
      ],
      "source": [
        "Set_1 = {\"Pisang\", \"Jeruk\", \"Apel\"}\n",
        "Set_2 = set((\"Pisang\", \"Jeruk\", \"Apel\"))\n",
        "print(\"Tipe data Set_1 adalah \", type(Set_1))\n",
        "print(\"Tipe data Set 2 adalah \", type(Set_2))\n",
        "print(\"Data Set_1: \", Set_1)\n",
        "print(\"Data Set 2: \", Set_2)\n",
        "print(\"--------------------\")\n",
        "\n",
        "for x in Set_1:\n",
        " print(x)\n",
        "print(\"--------------------\")\n",
        "\n",
        "print(len(Set_1))\n",
        "\n",
        "if \"Jeruk\" in Set_1:\n",
        " print(\"Yes, 'Jeruk is an item in Set_1.\")\n",
        "\n",
        "Set_1.add(\"anggur\")\n",
        "print(Set_1)\n",
        "\n",
        "Set_1.update([\"Melon\", \"Pir\", \"Kiwi\"])\n",
        "print (Set_1)"
      ]
    },
    {
      "cell_type": "code",
      "source": [
        "\n",
        "\n",
        "print (Set_1)\n",
        "\n",
        "Set_1.discard(\"Apel\")\n",
        "print(Set_1)\n",
        "\n",
        "Set_1.pop()\n",
        "print(Set_1)\n",
        "\n",
        "Set_1.clear()\n",
        "print(Set_1)\n",
        "\n",
        "del Set_1\n",
        "print(\"---------------------------\")\n",
        "\n",
        "set1 = {\"baju\", \"celana\", \"jaket\"}\n",
        "set2 = {\"cincin\", \"kalung\", \"anting\"}\n",
        "set3 = set1.union (set2)\n",
        "print(set3)\n",
        "print(\"----------------------------\")\n",
        "\n",
        "set1 = {\"baju\", \"celana\", \"jaket\"}\n",
        "set2 = {\"cincin\", \"kalung\", \"anting\"}\n",
        "set1.update(set2)\n",
        "print(set1)"
      ],
      "metadata": {
        "colab": {
          "base_uri": "https://localhost:8080/"
        },
        "id": "fD1CJqxbk0Yk",
        "outputId": "0acfb585-501d-4457-f520-b9a7e1f1d084"
      },
      "execution_count": 17,
      "outputs": [
        {
          "output_type": "stream",
          "name": "stdout",
          "text": [
            "{'Jeruk', 'Apel', 'Melon', 'Pisang', 'Kiwi', 'anggur', 'Pir'}\n",
            "{'Jeruk', 'Melon', 'Pisang', 'Kiwi', 'anggur', 'Pir'}\n",
            "{'Melon', 'Pisang', 'Kiwi', 'anggur', 'Pir'}\n",
            "set()\n",
            "---------------------------\n",
            "{'anting', 'celana', 'jaket', 'baju', 'kalung', 'cincin'}\n",
            "----------------------------\n",
            "{'anting', 'celana', 'jaket', 'baju', 'kalung', 'cincin'}\n"
          ]
        }
      ]
    },
    {
      "cell_type": "code",
      "source": [
        "#PART 2\n",
        "#Case 4\n",
        "print(\"Case 4\")\n",
        "#Semua data yang tidak nol (kosong) memiliki nilai Boolean True\n",
        "\n",
        "a = 3\n",
        "b = \"Ini data string.\"\n",
        "c = (\"laptop\", \"buku\", \"ballpen\")\n",
        "d = [\"laptop\", \"buku\", \"ballpen\"]\n",
        "e = {\"laptop\":\"asus\", \"buku\":\"buku_teks\", \"ballpen\": \"arrow\"}\n",
        "f = {1, 2, 3, 4, 5}\n",
        "print(bool(a))\n",
        "print(bool(b))\n",
        "print(bool(c))\n",
        "print(bool(d))\n",
        "print(bool(e))\n",
        "print(bool(f))\n",
        "print(\"========================\")\n"
      ],
      "metadata": {
        "colab": {
          "base_uri": "https://localhost:8080/"
        },
        "id": "r_qNUrwIsAxT",
        "outputId": "dda95c83-79d8-4062-e787-fb67da3fc914"
      },
      "execution_count": 19,
      "outputs": [
        {
          "output_type": "stream",
          "name": "stdout",
          "text": [
            "Case 4\n",
            "True\n",
            "True\n",
            "True\n",
            "True\n",
            "True\n",
            "True\n",
            "========================\n"
          ]
        }
      ]
    },
    {
      "cell_type": "code",
      "source": [
        "\n",
        "#PART 3\n",
        "#Case 5\n",
        "print(\"Case 5\")\n",
        "#Variabel yang kosong memiliki nilai Boolean False\n",
        "a = 0\n",
        "b = \"\"\n",
        "c = ()\n",
        "d = []\n",
        "e = {}\n",
        "\n",
        "print(bool(a))\n",
        "print(bool(b))\n",
        "print(bool(c))\n",
        "print(bool(d))\n",
        "print(bool(e))\n",
        "print(\"============================================\")\n",
        "\n",
        "#Case 6\n",
        "print(\"Case 6\")\n",
        "\n",
        "#Variabel yang panjangnya nol memiliki nilai Boolean False\n",
        "class myclass():\n",
        " def __len__(self):\n",
        "  return 0\n",
        "print(bool(myclass()))\n",
        "print(\"-------------------------------------------------\")"
      ],
      "metadata": {
        "colab": {
          "base_uri": "https://localhost:8080/"
        },
        "id": "okcfl9TBnYgw",
        "outputId": "38f91d77-0d06-4ded-b8d3-5fba7032cb37"
      },
      "execution_count": 18,
      "outputs": [
        {
          "output_type": "stream",
          "name": "stdout",
          "text": [
            "Case 5\n",
            "False\n",
            "False\n",
            "False\n",
            "False\n",
            "False\n",
            "============================================\n",
            "Case 6\n",
            "False\n",
            "-------------------------------------------------\n"
          ]
        }
      ]
    },
    {
      "cell_type": "code",
      "source": [
        "a = 200\n",
        "b = 300\n",
        "\n",
        "print(\"Apakah a lebih besar dari b\",bool(a>b))\n",
        "print(\"Apakah b lebih besar dari a\", bool(a<b))\n",
        "print(\"Apakah a sama dengan b\", bool(a==b))"
      ],
      "metadata": {
        "colab": {
          "base_uri": "https://localhost:8080/"
        },
        "id": "L5t1J1FxruXs",
        "outputId": "80fce370-855d-4ddd-9bf1-12a9d585c93b"
      },
      "execution_count": 25,
      "outputs": [
        {
          "output_type": "stream",
          "name": "stdout",
          "text": [
            "Apakah a lebih besar dari b False\n",
            "Apakah b lebih besar dari a True\n",
            "Apakah a sama dengan b False\n"
          ]
        }
      ]
    },
    {
      "cell_type": "code",
      "source": [
        "a = 12000\n",
        "if a >= 10000:\n",
        "  c=(12/100)*a\n",
        "print(c)"
      ],
      "metadata": {
        "colab": {
          "base_uri": "https://localhost:8080/"
        },
        "id": "SDXJiDHKs3QO",
        "outputId": "0ee412a3-3d09-4543-b5a4-322a5832322d"
      },
      "execution_count": 56,
      "outputs": [
        {
          "output_type": "stream",
          "name": "stdout",
          "text": [
            "1440.0\n"
          ]
        }
      ]
    },
    {
      "cell_type": "code",
      "source": [
        "b = 55000\n",
        "if b >= 50000:\n",
        "  d=(12/100)*b\n",
        "print(d)"
      ],
      "metadata": {
        "colab": {
          "base_uri": "https://localhost:8080/"
        },
        "id": "-oLI5pBTvcb0",
        "outputId": "a0c89c32-21ef-4c39-ff65-5df77790e9a4"
      },
      "execution_count": 57,
      "outputs": [
        {
          "output_type": "stream",
          "name": "stdout",
          "text": [
            "6600.0\n"
          ]
        }
      ]
    },
    {
      "cell_type": "code",
      "source": [
        "print(\"Apakah hasil PPN nilai a benar?\")\n",
        "print(bool((12/100)*a==c))\n",
        "print(\"Apakah hasil PPN nilai b benar?\")\n",
        "print(bool((12/100)*b==d))"
      ],
      "metadata": {
        "colab": {
          "base_uri": "https://localhost:8080/"
        },
        "id": "UR9VY7Aavr83",
        "outputId": "c817b6ef-76d9-4cc6-b8cf-02b3bf265b86"
      },
      "execution_count": 58,
      "outputs": [
        {
          "output_type": "stream",
          "name": "stdout",
          "text": [
            "Apakah hasil PPN nilai a benar?\n",
            "True\n",
            "Apakah hasil PPN nilai b benar?\n",
            "True\n"
          ]
        }
      ]
    },
    {
      "cell_type": "code",
      "source": [
        "del a\n",
        "del b\n",
        "a=0\n",
        "b=0\n",
        "\n",
        "print(\"Apakah hasil PPN nilai a benar?\")\n",
        "print(bool(a))\n",
        "print(\"Apakah hasil PPN nilai b benar?\")\n",
        "print(bool(b))"
      ],
      "metadata": {
        "colab": {
          "base_uri": "https://localhost:8080/"
        },
        "id": "pvsGMaQXxT3d",
        "outputId": "279f4fec-227a-465d-c8fc-02aa66e82d5e"
      },
      "execution_count": 59,
      "outputs": [
        {
          "output_type": "stream",
          "name": "stdout",
          "text": [
            "Apakah hasil PPN nilai a benar?\n",
            "False\n",
            "Apakah hasil PPN nilai b benar?\n",
            "False\n"
          ]
        }
      ]
    },
    {
      "cell_type": "code",
      "source": [
        "  #Masukkan posisi pixel pada layar (nomor baris)\n",
        "pixel_row = 100\n",
        "rowmax = int(1079)\n",
        "batas1 = int(0.5*rowmax)\n",
        "\n",
        "print(\"batas1: \", batas1)\n",
        "print(\"Posisi pixel berada pada baris ke-\", pixel_row)\n",
        "\n",
        "if pixel_row < batas1:\n",
        " print(\"Warnai pixel merah.\")\n",
        "if pixel_row == batas1:\n",
        " print(\"Warnai pixel hitam.\")\n",
        "if pixel_row > batas1:\n",
        " print(\"Warnai pixel putih.\")\n",
        "if pixel_row <= batas1:\n",
        " print(\"Warnai pixel kuning.\")\n",
        "if pixel_row > batas1:\n",
        " print(\"Warnai pixel ungu.\")"
      ],
      "metadata": {
        "colab": {
          "base_uri": "https://localhost:8080/"
        },
        "id": "OebrJGg-x0c4",
        "outputId": "0d4b7cbd-bf19-4e3a-8c7d-3e83d67aa163"
      },
      "execution_count": 60,
      "outputs": [
        {
          "output_type": "stream",
          "name": "stdout",
          "text": [
            "batas1:  539\n",
            "Posisi pixel berada pada baris ke- 100\n",
            "Warnai pixel merah.\n",
            "Warnai pixel kuning.\n"
          ]
        }
      ]
    },
    {
      "cell_type": "code",
      "source": [
        "#Masukkan posisi pixel pada layar (nomor baris)\n",
        "pixel_row = 300\n",
        "rowmax = int(1079)\n",
        "batas1 = int(0.2*rowmax)\n",
        "batas2 = int(0.4*rowmax)\n",
        "batas3 = int(0.6*rowmax)\n",
        "batas4 = int(0.8*rowmax)\n",
        "print(\"batas1: \", batas1)\n",
        "print(\"batas2: \", batas2)\n",
        "print(\"batas3: \", batas1)\n",
        "print(\"batas4: \", batas4)\n",
        "print(\"rowmax: \", rowmax)\n",
        "print(\"Posisi pixel berada pada baris ke-\", pixel_row)\n",
        "if (pixel_row >= 0 and pixel_row < batas1):\n",
        " print(\"Warnai pixel merah.\")\n",
        "if (pixel_row >= batas1 and pixel_row < batas2):\n",
        " print(\"Warnai pixel hijau.\")\n",
        "if (pixel_row >= batas2 and pixel_row < batas3):\n",
        " print(\"Warnai pixel biru.\")\n",
        "if (pixel_row >= batas3 and pixel_row < batas4):\n",
        " print(\"Warnai pixel kuning.\")\n",
        "if (pixel_row >= batas4 and pixel_row < rowmax):\n",
        " print(\"Warnai pixel ungu.\")"
      ],
      "metadata": {
        "colab": {
          "base_uri": "https://localhost:8080/"
        },
        "id": "PVN1JCegz1iy",
        "outputId": "8d7241c6-6348-43d5-e28e-0f55b15ec8ca"
      },
      "execution_count": 61,
      "outputs": [
        {
          "output_type": "stream",
          "name": "stdout",
          "text": [
            "batas1:  215\n",
            "batas2:  431\n",
            "batas3:  215\n",
            "batas4:  863\n",
            "rowmax:  1079\n",
            "Posisi pixel berada pada baris ke- 300\n",
            "Warnai pixel hijau.\n"
          ]
        }
      ]
    },
    {
      "cell_type": "code",
      "source": [
        "\n",
        "\n",
        "\n",
        "\n"
      ],
      "metadata": {
        "id": "Qn7UWH_Z3o0P"
      },
      "execution_count": null,
      "outputs": []
    },
    {
      "cell_type": "code",
      "source": [
        "import numpy as np\n",
        "import matplotlib.pyplot as plt\n",
        "\n",
        "\n",
        "\n",
        "rowmax= int(2100)\n",
        "colmax= int(2100)\n",
        "radius_max= int(500)\n",
        "batas1= int(0.2*radius_max)\n",
        "batas2= int(0.4*radius_max)\n",
        "batas3= int(0.6*radius_max)\n",
        "batas4= int(0.8*radius_max)\n",
        "Gambar = np.zeros(shape=(rowmax+1, colmax+1, 3), dtype=np.int16)\n",
        "for i in range(0, rowmax+1):\n",
        " for j in range(0, colmax+1):\n",
        "  if (i**2+j**2) >= 0 and (i**2+j**2) < batas1**2:\n",
        "   Gambar[i, j, 0] = 255\n",
        "\n",
        "  if (i**2+j**2) >= batas1**2 and (i**2+j**2) < batas2**2:\n",
        "   Gambar[i, j, 1] = 255\n",
        "  if (i**2+j**2) >= batas2**2 and (i**2+j**2) < batas3**2:\n",
        "   Gambar[i, j, 2] = 255\n",
        "  if (i**2+j**2) >= batas3**2 and (i**2+j**2) < batas4**2:\n",
        "   Gambar[i, j, 0] = 255\n",
        "   Gambar[i, j, 1] = 255\n",
        "  if (i**2+j**2) >= batas4**2 and (i**2+j**2) < radius_max**2:\n",
        "   Gambar[i, j, 0] = 255\n",
        "   Gambar[i, j, 2] = 255\n",
        "plt.figure()\n",
        "plt.imshow(Gambar)\n",
        "plt.show()"
      ],
      "metadata": {
        "colab": {
          "base_uri": "https://localhost:8080/",
          "height": 435
        },
        "id": "EUaiWgqAz8F1",
        "outputId": "822617d3-b68c-4512-fe74-87a934bc54f0"
      },
      "execution_count": 67,
      "outputs": [
        {
          "output_type": "display_data",
          "data": {
            "text/plain": [
              "<Figure size 640x480 with 1 Axes>"
            ],
            "image/png": "[encoded data removed]"
          },
          "metadata": {}
        }
      ]
    },
    {
      "cell_type": "code",
      "source": [
        "import numpy as np\n",
        "import matplotlib.pyplot as plt\n",
        "\n",
        "#PROGRAM UNTUK TITIK DAN GARIS\n",
        "print(\"\\033c\")       #To close all\n",
        "\n",
        "row, col = int(500), int(500)\n",
        "y2, x2 = 400, 450\n",
        "y1, x1 = 150, 450\n",
        "y3, x3 = 350, 400\n",
        "y4, x4 = 350,50\n",
        "y5, x5 = 150, 50\n",
        "y6, x6 = 150, 450\n",
        "y7, x7 = 150, 50\n",
        "y8, x8 = 400, 50\n",
        "pd = int(5)\n",
        "point_color = [220,0,220]\n",
        "point_color2 = [0,0,220]\n",
        "lw = int(5)\n",
        "line_color = [220,0,220]\n",
        "line_color2 = [0,0,220]\n",
        "\n",
        "def buat_garis(Gambar, y1, x1, y2, x2, pd, lw, point_color, line_color):\n",
        "    pr, pg, pb = point_color\n",
        "    lr, lg, lb = line_color\n",
        "    hd = int(pd/2)                               #Calculate the half point diameter.\n",
        "    hw = int(lw/2)                              #Calculate the half half line width.\n",
        "    dy = y2-y1\n",
        "    dx = x2-x1\n",
        "\n",
        "    # Draw the first point.\n",
        "    for i in range(x1 - hd, x1 + hd):\n",
        "        for j in range(y1 - hd, y1 + hd):\n",
        "            if ((i - x1) * 2 + (j - y1) * 2) < hd ** 2:\n",
        "                Gambar[j, i, 0] = pr\n",
        "                Gambar[j, i, 1] = pg\n",
        "                Gambar[j, i, 2] = pb\n",
        "\n",
        "    # Draw the second point.\n",
        "    for i in range(x2 - hd, x2 + hd):\n",
        "        for j in range(y2 - hd, y2 + hd):\n",
        "            if ((i - x2) * 2 + (j - y2) * 2) < hd ** 2:\n",
        "                Gambar[j, i, 0] = pr\n",
        "                Gambar[j, i, 1] = pg\n",
        "                Gambar[j, i, 2] = pb\n",
        "\n",
        "    #Draw the line. Untuk garis yang cenderung horisontal\n",
        "    if abs(dy) <= abs(dx):\n",
        "        my = dy / dx\n",
        "        if x2 < x1:        #If x2 < x1 exchange the value of y1 & y2 and x1 & x2.\n",
        "            temp = y1\n",
        "            y1 = y2\n",
        "            y2 = temp\n",
        "            temp = x1\n",
        "            x1 = x2\n",
        "            x2 = temp\n",
        "        for i in range(x1, x2):\n",
        "            j = int(my * (i-x1) + y1)           #Finding y using the line equation\n",
        "            x = i\n",
        "            y = j\n",
        "\n",
        "            for i in range(x-hw, x+hw):        #Creating a circle surrounding (x,y) and coloring it red\n",
        "                for j in range(y-hw, y+hw):\n",
        "                    if ( (i-x)*2 + (j-y)*2 ) < hw **2:\n",
        "                        Gambar[j, i, 0] = lr\n",
        "                        Gambar[j, i, 1] = lg\n",
        "                        Gambar[j, i, 2] = lb\n",
        "    #Draw the line. Untuk garis yang cenderung vertikal\n",
        "    if abs(dy) > abs(dx):\n",
        "        mx = dx / dy\n",
        "        if y2 < y1:        #If y2 < y1 exchange the value of y1 & y2 and x1 & x2.\n",
        "            temp = y1\n",
        "            y1 = y2\n",
        "            y2 = temp\n",
        "            temp = x1\n",
        "            x1 = x2\n",
        "            x2 = temp\n",
        "\n",
        "        for j in range(y1, y2):\n",
        "            i = int(mx * (j-y1) + x1)           #Finding y using the line equation\n",
        "            x = i\n",
        "            y = j\n",
        "\n",
        "            for i in range(x-hw, x+hw):        #Creating a circle surrounding (x,y) and coloring it red\n",
        "                for j in range(y-hw, y+hw):\n",
        "                    if ( (i-x)*2 + (j-y)*2 ) < hw **2:\n",
        "                        Gambar[j, i, 0] = lr\n",
        "                        Gambar[j, i, 1] = lg\n",
        "                        Gambar[j, i, 2] = lb\n",
        "\n",
        "    return Gambar\n",
        "\n",
        "print('col, row =', col, ',', row)\n",
        "Gambar = np.zeros(shape=(row, col, 3), dtype=np.uint8)  # Preparing the black canvas\n",
        "\n",
        "\n",
        "while x2 > 50 and x1 > 50 :\n",
        "    hasil = buat_garis(Gambar, y1, x1, y2, x2, pd, lw, point_color, line_color)\n",
        "    Gambar = hasil\n",
        "    x2 -= 1\n",
        "    x1 -= 1\n",
        "\n",
        "\n",
        "\n",
        "plt.figure()\n",
        "plt.imshow(hasil)\n",
        "plt.show()"
      ],
      "metadata": {
        "colab": {
          "base_uri": "https://localhost:8080/",
          "height": 470
        },
        "id": "XvQmmRUR11S_",
        "outputId": "41888aa0-7917-404b-b287-b1fe6cb5cc24"
      },
      "execution_count": 77,
      "outputs": [
        {
          "output_type": "stream",
          "name": "stdout",
          "text": [
            "\u001bc\n",
            "col, row = 500 , 500\n"
          ]
        },
        {
          "output_type": "display_data",
          "data": {
            "text/plain": [
              "<Figure size 640x480 with 1 Axes>"
            ],
            "image/png": "[encoded data removed]"
          },
          "metadata": {}
        }
      ]
    },
    {
      "cell_type": "code",
      "source": [],
      "metadata": {
        "id": "88Ge0Bt99ccK"
      },
      "execution_count": null,
      "outputs": []
    }
  ]
}