{
  "nbformat": 4,
  "nbformat_minor": 0,
  "metadata": {
    "colab": {
      "provenance": [],
      "authorship_tag": "ABX9TyO2ZfUjB53/cC3R3XheI79z",
      "include_colab_link": true
    },
    "kernelspec": {
      "name": "python3",
      "display_name": "Python 3"
    },
    "language_info": {
      "name": "python"
    }
  },
  "cells": [
    {
      "cell_type": "markdown",
      "metadata": {
        "id": "view-in-github",
        "colab_type": "text"
      },
      "source": [
        "<a href=\"https://colab.research.google.com/github/Jore24x/PemVis/blob/main/pemvis13.ipynb\" target=\"_parent\"><img src=\"https://colab.research.google.com/assets/colab-badge.svg\" alt=\"Open In Colab\"/></a>"
      ]
    },
    {
      "cell_type": "code",
      "execution_count": null,
      "metadata": {
        "id": "2C2V1qVgsa4x"
      },
      "outputs": [],
      "source": [
        "import tkinter as tk\n",
        "from tkinter.simpledialog import askinteger\n",
        "from tkinter import messagebox\n",
        "\n",
        "def draw_circle():\n",
        "    canvas.delete(\"all\")  # Menghapus bentuk lain yang ada\n",
        "    radius = askinteger(\"Ukuran Lingkaran\", \"Masukkan Jari-Jari Lingkaran:\")\n",
        "    if radius:\n",
        "        canvas.create_oval(100 - radius, 100 - radius, 100 + radius, 100 + radius, outline=\"black\", fill=\"red\")\n",
        "        luas = 3.14 * radius * radius\n",
        "        messagebox.showinfo(\"Hasil\", f\"Luas lingkaran adalah: {luas}\")\n",
        "\n",
        "def draw_rectangle():\n",
        "    canvas.delete(\"all\")  # Menghapus bentuk lain yang ada\n",
        "    width = askinteger(\"Ukuran Segiempat\", \"Masukkan Lebar Segiempat:\")\n",
        "    height = askinteger(\"Ukuran Segiempat\", \"Masukkan Tinggi Segiempat:\")\n",
        "    if width and height:\n",
        "        canvas.create_rectangle(100 - width / 2, 100 - height / 2, 100 + width / 2, 100 + height / 2, outline=\"black\", fill=\"blue\")\n",
        "        luas = width * height\n",
        "        messagebox.showinfo(\"Hasil\", f\"Luas Segiempat Adalah: {luas}\")\n",
        "\n",
        "def draw_triangle():\n",
        "    canvas.delete(\"all\")  # Menghapus bentuk lain yang ada\n",
        "    base = askinteger(\"Ukuran Segitiga\", \"Masukkan Lebar Segitiga:\")\n",
        "    height = askinteger(\"Ukuran Segitiga\", \"Masukkan Tinggi Segitiga:\")\n",
        "    if base and height:\n",
        "        canvas.create_polygon(100 - base / 2, 100 + height / 2, 100 + base / 2, 100 + height / 2, 100, 100 - height / 2, outline=\"black\", fill=\"green\")\n",
        "        luas = 0.5 * base * height\n",
        "        messagebox.showinfo(\"Hasil\", f\"Luas Segitiga adalah: {luas}\")\n",
        "\n",
        "def draw_parallelogram():\n",
        "    canvas.delete(\"all\")  # Menghapus bentuk lain yang ada\n",
        "    base = askinteger(\"Ukuran Jajargenjang\", \"Masukkan Lebar Jajargenjang:\")\n",
        "    height = askinteger(\"Ukuran Jajargenjang\", \"Masukkan Tinggi Jajargenjang:\")\n",
        "    if base and height:\n",
        "        canvas.create_polygon(100 - base / 2, 100 + height / 2, 100 + base / 2, 100 + height / 2, 100 + base / 2 - 50, 100 - height / 2, 100 - base / 2 - 50, 100 - height / 2, outline=\"black\", fill=\"yellow\")\n",
        "        luas = base * height\n",
        "        messagebox.showinfo(\"Hasil\", f\"Luas Jajargenjang Adalah: {luas}\")\n",
        "\n",
        "root = tk.Tk()\n",
        "root.title(\"Aplikasi Menggambar Objek 2 Dimensi\")\n",
        "\n",
        "# Membuat tata letak dan gaya tampilan yang lebih menarik\n",
        "title_label = tk.Label(root, text=\"Aplikasi Menggambar Objek 2 Dimensi\", font=(\"Helvetica\", 16))\n",
        "title_label.pack(pady=10)\n",
        "\n",
        "frame = tk.Frame(root)\n",
        "frame.pack(pady=10)\n",
        "\n",
        "canvas = tk.Canvas(frame, width=300, height=300, bg=\"white\")\n",
        "canvas.pack(side=\"left\", padx=10)\n",
        "\n",
        "scrollbar = tk.Scrollbar(frame, orient=\"vertical\", command=canvas.yview)\n",
        "scrollbar.pack(side=\"right\", fill=\"y\")\n",
        "\n",
        "canvas.configure(yscrollcommand=scrollbar.set)\n",
        "canvas.bind(\"<Configure>\", lambda e: canvas.configure(scrollregion=canvas.bbox(\"all\")))\n",
        "\n",
        "draw_frame = tk.Frame(root)\n",
        "draw_frame.pack(pady=10)\n",
        "\n",
        "circle_button = tk.Button(draw_frame, text=\"Lingkaran\", command=draw_circle, padx=10)\n",
        "circle_button.pack(side=\"left\", padx=5)\n",
        "\n",
        "rectangle_button = tk.Button(draw_frame, text=\"Segiempat\", command=draw_rectangle, padx=10)\n",
        "rectangle_button.pack(side=\"left\", padx=5)\n",
        "\n",
        "triangle_button = tk.Button(draw_frame, text=\"Segitiga\", command=draw_triangle, padx=10)\n",
        "triangle_button.pack(side=\"left\", padx=5)\n",
        "\n",
        "parallelogram_button = tk.Button(draw_frame, text=\"Jajargenjang\", command=draw_parallelogram, padx=10)\n",
        "parallelogram_button.pack(side=\"left\", padx=5)\n",
        "\n",
        "root.mainloop()"
      ]
    }
  ]
}